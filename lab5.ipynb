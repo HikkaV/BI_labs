{
 "cells": [
  {
   "cell_type": "code",
   "execution_count": 9,
   "metadata": {},
   "outputs": [],
   "source": [
    "import numpy as np\n",
    "import pandas as pd\n",
    "import seaborn as sns\n",
    "import matplotlib.pyplot as plt\n",
    "sns.set()"
   ]
  },
  {
   "cell_type": "markdown",
   "metadata": {},
   "source": [
    "# LOADING AND CLEANING DATA"
   ]
  },
  {
   "cell_type": "code",
   "execution_count": 11,
   "metadata": {},
   "outputs": [],
   "source": [
    "df1 = pd.read_csv('USD_EUR_data.csv',usecols=['Дата','Цена'])\n",
    "df1.rename(columns={'Дата' : 'Date', 'Цена' : 'USD_EUR_Price'},inplace=True)"
   ]
  },
  {
   "cell_type": "code",
   "execution_count": 13,
   "metadata": {},
   "outputs": [
    {
     "data": {
      "text/plain": [
       "23"
      ]
     },
     "execution_count": 13,
     "metadata": {},
     "output_type": "execute_result"
    }
   ],
   "source": [
    "len(df1)"
   ]
  },
  {
   "cell_type": "code",
   "execution_count": 14,
   "metadata": {},
   "outputs": [],
   "source": [
    "df2 = pd.read_csv('USD_RUB_data.csv',usecols=['Дата','Цена'])\n",
    "df2.rename(columns={'Дата' : 'Date', 'Цена' : 'USD_RUB_Price'},inplace=True)"
   ]
  },
  {
   "cell_type": "code",
   "execution_count": 15,
   "metadata": {},
   "outputs": [
    {
     "data": {
      "text/plain": [
       "21"
      ]
     },
     "execution_count": 15,
     "metadata": {},
     "output_type": "execute_result"
    }
   ],
   "source": [
    "len(df2)"
   ]
  },
  {
   "cell_type": "code",
   "execution_count": 18,
   "metadata": {},
   "outputs": [],
   "source": [
    "df = df1.merge(df2,left_on='Date',right_on='Date',how='inner')"
   ]
  },
  {
   "cell_type": "code",
   "execution_count": 19,
   "metadata": {},
   "outputs": [
    {
     "data": {
      "text/plain": [
       "21"
      ]
     },
     "execution_count": 19,
     "metadata": {},
     "output_type": "execute_result"
    }
   ],
   "source": [
    "len(df)"
   ]
  },
  {
   "cell_type": "code",
   "execution_count": 20,
   "metadata": {},
   "outputs": [
    {
     "data": {
      "text/html": [
       "<div>\n",
       "<style scoped>\n",
       "    .dataframe tbody tr th:only-of-type {\n",
       "        vertical-align: middle;\n",
       "    }\n",
       "\n",
       "    .dataframe tbody tr th {\n",
       "        vertical-align: top;\n",
       "    }\n",
       "\n",
       "    .dataframe thead th {\n",
       "        text-align: right;\n",
       "    }\n",
       "</style>\n",
       "<table border=\"1\" class=\"dataframe\">\n",
       "  <thead>\n",
       "    <tr style=\"text-align: right;\">\n",
       "      <th></th>\n",
       "      <th>Date</th>\n",
       "      <th>USD_EUR_Price</th>\n",
       "      <th>USD_RUB_Price</th>\n",
       "    </tr>\n",
       "  </thead>\n",
       "  <tbody>\n",
       "    <tr>\n",
       "      <th>0</th>\n",
       "      <td>13.03.2020</td>\n",
       "      <td>0,9004</td>\n",
       "      <td>72,6133</td>\n",
       "    </tr>\n",
       "    <tr>\n",
       "      <th>1</th>\n",
       "      <td>12.03.2020</td>\n",
       "      <td>0,8941</td>\n",
       "      <td>74,8742</td>\n",
       "    </tr>\n",
       "    <tr>\n",
       "      <th>2</th>\n",
       "      <td>11.03.2020</td>\n",
       "      <td>0,8873</td>\n",
       "      <td>72,9375</td>\n",
       "    </tr>\n",
       "    <tr>\n",
       "      <th>3</th>\n",
       "      <td>10.03.2020</td>\n",
       "      <td>0,8865</td>\n",
       "      <td>71,3747</td>\n",
       "    </tr>\n",
       "    <tr>\n",
       "      <th>4</th>\n",
       "      <td>06.03.2020</td>\n",
       "      <td>0,8861</td>\n",
       "      <td>68,5685</td>\n",
       "    </tr>\n",
       "  </tbody>\n",
       "</table>\n",
       "</div>"
      ],
      "text/plain": [
       "         Date USD_EUR_Price USD_RUB_Price\n",
       "0  13.03.2020        0,9004       72,6133\n",
       "1  12.03.2020        0,8941       74,8742\n",
       "2  11.03.2020        0,8873       72,9375\n",
       "3  10.03.2020        0,8865       71,3747\n",
       "4  06.03.2020        0,8861       68,5685"
      ]
     },
     "execution_count": 20,
     "metadata": {},
     "output_type": "execute_result"
    }
   ],
   "source": [
    "df.head()"
   ]
  },
  {
   "cell_type": "code",
   "execution_count": 23,
   "metadata": {},
   "outputs": [],
   "source": [
    "df['USD_EUR_Price'] = df['USD_EUR_Price'].apply(lambda x: x.replace(',','.'))\n",
    "df['USD_RUB_Price'] = df['USD_RUB_Price'].apply(lambda x: x.replace(',','.'))"
   ]
  },
  {
   "cell_type": "code",
   "execution_count": 24,
   "metadata": {},
   "outputs": [],
   "source": [
    "df['USD_EUR_Price'] = df['USD_EUR_Price'].astype('float')\n",
    "df['USD_RUB_Price'] = df['USD_RUB_Price'].astype('float')"
   ]
  },
  {
   "cell_type": "markdown",
   "metadata": {},
   "source": [
    "# BASIC STATISTICS "
   ]
  },
  {
   "cell_type": "code",
   "execution_count": 27,
   "metadata": {},
   "outputs": [
    {
     "name": "stdout",
     "output_type": "stream",
     "text": [
      "Standart deviation: USD_EUR_Price : 0.015130840470156757, USD_RUB_Price : 3.4976321138191544\n"
     ]
    }
   ],
   "source": [
    "print('Standart deviation: USD_EUR_Price : {0}, USD_RUB_Price : {1}'.format(df['USD_EUR_Price'].std(),\\\n",
    "                                                                            df['USD_RUB_Price'].std()))"
   ]
  },
  {
   "cell_type": "code",
   "execution_count": 28,
   "metadata": {},
   "outputs": [
    {
     "name": "stdout",
     "output_type": "stream",
     "text": [
      "Variation : USD_EUR_Price : 0.00022894233333333353, USD_RUB_Price : 12.233430403619048\n"
     ]
    }
   ],
   "source": [
    "print('Variation : USD_EUR_Price : {0}, USD_RUB_Price : {1}'.format(df['USD_EUR_Price'].var(),\\\n",
    "                                                                            df['USD_RUB_Price'].var()))"
   ]
  },
  {
   "cell_type": "code",
   "execution_count": 29,
   "metadata": {},
   "outputs": [
    {
     "name": "stdout",
     "output_type": "stream",
     "text": [
      "Mean : USD_EUR_Price : 0.9085333333333333, USD_RUB_Price : 66.66535238095237\n"
     ]
    }
   ],
   "source": [
    "print('Mean : USD_EUR_Price : {0}, USD_RUB_Price : {1}'.format(df['USD_EUR_Price'].mean(),\\\n",
    "                                                                            df['USD_RUB_Price'].mean()))"
   ]
  },
  {
   "cell_type": "code",
   "execution_count": 33,
   "metadata": {},
   "outputs": [
    {
     "data": {
      "image/png": "[encoded data removed]",
      "text/plain": [
       "<Figure size 1080x864 with 4 Axes>"
      ]
     },
     "metadata": {},
     "output_type": "display_data"
    }
   ],
   "source": [
    "pd.plotting.scatter_matrix(df[['USD_EUR_Price','USD_RUB_Price']],figsize=(15,12));"
   ]
  },
  {
   "cell_type": "code",
   "execution_count": 35,
   "metadata": {},
   "outputs": [
    {
     "data": {
      "text/html": [
       "<div>\n",
       "<style scoped>\n",
       "    .dataframe tbody tr th:only-of-type {\n",
       "        vertical-align: middle;\n",
       "    }\n",
       "\n",
       "    .dataframe tbody tr th {\n",
       "        vertical-align: top;\n",
       "    }\n",
       "\n",
       "    .dataframe thead th {\n",
       "        text-align: right;\n",
       "    }\n",
       "</style>\n",
       "<table border=\"1\" class=\"dataframe\">\n",
       "  <thead>\n",
       "    <tr style=\"text-align: right;\">\n",
       "      <th></th>\n",
       "      <th>USD_EUR_Price</th>\n",
       "      <th>USD_RUB_Price</th>\n",
       "    </tr>\n",
       "  </thead>\n",
       "  <tbody>\n",
       "    <tr>\n",
       "      <th>USD_EUR_Price</th>\n",
       "      <td>1.000000</td>\n",
       "      <td>-0.787769</td>\n",
       "    </tr>\n",
       "    <tr>\n",
       "      <th>USD_RUB_Price</th>\n",
       "      <td>-0.787769</td>\n",
       "      <td>1.000000</td>\n",
       "    </tr>\n",
       "  </tbody>\n",
       "</table>\n",
       "</div>"
      ],
      "text/plain": [
       "               USD_EUR_Price  USD_RUB_Price\n",
       "USD_EUR_Price       1.000000      -0.787769\n",
       "USD_RUB_Price      -0.787769       1.000000"
      ]
     },
     "execution_count": 35,
     "metadata": {},
     "output_type": "execute_result"
    }
   ],
   "source": [
    "df[['USD_EUR_Price','USD_RUB_Price']].corr()"
   ]
  },
  {
   "cell_type": "markdown",
   "metadata": {},
   "source": [
    "# BUILDING AND FITTING LINEAR REGRESSION"
   ]
  },
  {
   "cell_type": "code",
   "execution_count": 44,
   "metadata": {},
   "outputs": [],
   "source": [
    "class LinearRegression:\n",
    "    def __init__(self):\n",
    "        self.a = None\n",
    "        self.b = None\n",
    "        self.X = None\n",
    "        self.y = None\n",
    "\n",
    "    def calculate_error(self,y_true,y_pred):\n",
    "        return np.sum(np.power(y_pred-y_true,2))\n",
    "    \n",
    "    def calculate_determination(self,y_true,y_pred):\n",
    "        mean_ytrue = np.mean(y_true)\n",
    "        return self.calculate_error(y_true,y_pred)/np.sum(np.power(y_true-mean_ytrue,2))\n",
    "    \n",
    "    def get_train_error(self):\n",
    "        y_pred = self.predict(self.X)\n",
    "        return self.calculate_error(self.y,y_pred)\n",
    "    \n",
    "    def get_train_determination(self):\n",
    "        y_pred = self.predict(self.X)\n",
    "        return self.calculate_determination(self.y,y_pred)\n",
    "        \n",
    "    def fit(self,X,y):\n",
    "        self.X = X.copy()\n",
    "        self.y = y.copy()\n",
    "        mean_X = np.mean(X)\n",
    "        mean_y = np.mean(y)\n",
    "        self.a = np.sum((X-mean_X)*(y-mean_y))/np.sum(np.power(X-mean_X,2))\n",
    "        self.b = mean_y - self.a*mean_X\n",
    "        return self\n",
    "    \n",
    "    def predict(self, X):\n",
    "        return X*self.a + self.b\n",
    "    "
   ]
  },
  {
   "cell_type": "code",
   "execution_count": 45,
   "metadata": {},
   "outputs": [],
   "source": [
    "lr = LinearRegression()"
   ]
  },
  {
   "cell_type": "code",
   "execution_count": 63,
   "metadata": {},
   "outputs": [],
   "source": [
    "X, y = df['USD_EUR_Price'].values, df['USD_RUB_Price'].values"
   ]
  },
  {
   "cell_type": "code",
   "execution_count": 64,
   "metadata": {},
   "outputs": [
    {
     "data": {
      "text/plain": [
       "<__main__.LinearRegression at 0x11b3b8190>"
      ]
     },
     "execution_count": 64,
     "metadata": {},
     "output_type": "execute_result"
    }
   ],
   "source": [
    "lr.fit(X,y)"
   ]
  },
  {
   "cell_type": "code",
   "execution_count": 65,
   "metadata": {},
   "outputs": [
    {
     "data": {
      "text/plain": [
       "0.37942045295284443"
      ]
     },
     "execution_count": 65,
     "metadata": {},
     "output_type": "execute_result"
    }
   ],
   "source": [
    "lr.get_train_determination()"
   ]
  },
  {
   "cell_type": "code",
   "execution_count": 66,
   "metadata": {},
   "outputs": [
    {
     "data": {
      "text/plain": [
       "92.83227409816475"
      ]
     },
     "execution_count": 66,
     "metadata": {},
     "output_type": "execute_result"
    }
   ],
   "source": [
    "lr.get_train_error()"
   ]
  },
  {
   "cell_type": "code",
   "execution_count": 67,
   "metadata": {},
   "outputs": [],
   "source": [
    "y_pred = lr.predict(X)"
   ]
  },
  {
   "cell_type": "code",
   "execution_count": 71,
   "metadata": {},
   "outputs": [
    {
     "data": {
      "image/png": "[encoded data removed]",
      "text/plain": [
       "<Figure size 1080x864 with 1 Axes>"
      ]
     },
     "metadata": {},
     "output_type": "display_data"
    }
   ],
   "source": [
    "plt.figure(figsize=(15,12))\n",
    "plt.title('Linear regression on currency data')\n",
    "plt.scatter(X,y)\n",
    "plt.plot(X,y_pred,'r')\n",
    "plt.xlabel('EUR in USD')\n",
    "plt.ylabel('RUB in USD');"
   ]
  },
  {
   "cell_type": "code",
   "execution_count": null,
   "metadata": {},
   "outputs": [],
   "source": []
  }
 ],
 "metadata": {
  "kernelspec": {
   "display_name": "Python 3",
   "language": "python",
   "name": "python3"
  },
  "language_info": {
   "codemirror_mode": {
    "name": "ipython",
    "version": 3
   },
   "file_extension": ".py",
   "mimetype": "text/x-python",
   "name": "python",
   "nbconvert_exporter": "python",
   "pygments_lexer": "ipython3",
   "version": "3.7.6"
  }
 },
 "nbformat": 4,
 "nbformat_minor": 4
}
